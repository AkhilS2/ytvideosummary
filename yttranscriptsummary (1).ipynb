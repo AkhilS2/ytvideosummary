{
  "nbformat": 4,
  "nbformat_minor": 0,
  "metadata": {
    "colab": {
      "provenance": []
    },
    "kernelspec": {
      "name": "python3",
      "display_name": "Python 3"
    },
    "language_info": {
      "name": "python"
    }
  },
  "cells": [
    {
      "cell_type": "code",
      "execution_count": null,
      "metadata": {
        "id": "UAdU0zDjp0rM"
      },
      "outputs": [],
      "source": [
        "pip install youtube-transcript-api transformers torch sentencepiece ipywidgets"
      ]
    },
    {
      "cell_type": "code",
      "source": [
        "!pip install requests"
      ],
      "metadata": {
        "id": "i5rusuVsE9iN"
      },
      "execution_count": null,
      "outputs": []
    },
    {
      "cell_type": "code",
      "source": [
        "from youtube_transcript_api import YouTubeTranscriptApi\n",
        "import re\n",
        "\n",
        "def extract_video_id(url):\n",
        "    match = re.search(r\"(?:v=|\\/)([0-9A-Za-z_-]{11}).*\", url)\n",
        "    return match.group(1) if match else None\n",
        "\n",
        "def get_transcript(video_url):\n",
        "    video_id = extract_video_id(video_url)\n",
        "    transcript = YouTubeTranscriptApi.get_transcript(video_id)\n",
        "    return \" \".join([entry['text'] for entry in transcript])"
      ],
      "metadata": {
        "id": "PTk5MAYdDTor"
      },
      "execution_count": null,
      "outputs": []
    },
    {
      "cell_type": "code",
      "source": [
        "video_url = \"https://www.youtube.com/watch?v=ft0owvS5tQA&ab_channel=NeetCode\"\n",
        "raw_text = get_transcript(video_url)\n",
        "print(raw_text[:500])"
      ],
      "metadata": {
        "id": "Pv22jHD5C56v"
      },
      "execution_count": null,
      "outputs": []
    },
    {
      "cell_type": "code",
      "source": [
        "from textwrap import wrap\n",
        "chunks = wrap(raw_text, width=2000)"
      ],
      "metadata": {
        "id": "8cypfvW2Cp-j"
      },
      "execution_count": null,
      "outputs": []
    },
    {
      "cell_type": "markdown",
      "source": [
        "**Facebook Bart Large CNN**\n",
        "The summary seems to cover some of the topics. For better results we can clean the text to make sure no filler words are left in the summary."
      ],
      "metadata": {
        "id": "STU-OmU5ECgn"
      }
    },
    {
      "cell_type": "code",
      "source": [
        "from transformers import pipeline\n",
        "summarizer = pipeline(\"summarization\", model=\"facebook/bart-large-cnn\")\n",
        "\n",
        "for chunk in chunks:\n",
        "    summary = summarizer(chunk, max_length=150, min_length=50, do_sample=False)\n",
        "    print(summary[0]['summary_text'])"
      ],
      "metadata": {
        "id": "QfgXKKVcCrqc"
      },
      "execution_count": null,
      "outputs": []
    },
    {
      "cell_type": "markdown",
      "source": [
        "**Summary:** The top six coding interview concepts that you need for interviews. These are six of the most common uh you know things that come up in interviews. Dynamic programming is not gonna show up on my list for how difficult dynamic programming is. Even the ones that do ask it don't ask it super frequently.\n",
        "If you're building a heap you can build that heap in big o of n time as long as you have all the values available from the start. If you're actually manually adding each value to the heap you don't have them available all at once. Heaps also show up in a lot of standard algorithms like graph algorithms shortest path algorithms.\n",
        "The next algorithm is going to be binary search i think every cs major will learn this algorithm and usually think it's pretty simple at least conceptually right. The whole idea comes from you know if you were guessing a number between one and a hundred and you got some kind of feedback right like if you got the wrong answer you knew if it was too high or too low.\n",
        "Dfs and bfs are the building blocks for more complex algorithms things like jixtra's algorithm shortest path kruskal's prim's algorithm bellman ford. These are very standard algorithms once you've written them so many times it becomes like second nature but when you're a beginner these algorithms can be pretty daunting to learn.\n",
        "Recursion is applied in so many places and it's also used in graphs as well as many other categories like backtracking sometimes with dynamic programming if you're talking about the memoization solution. i don't know how you would even prepare for coding interviews if you didn't know recursion and i definitely recommend getting pretty proficient with recursion.\n",
        " hash maps are very efficient data structures. They can be used to solve a lot of coding interview problems. If you don't have a good understanding of hash maps then pretty much any coding interview problem is going to be challenging for you. These are the top six coding interview concepts i think you should be preparing for."
      ],
      "metadata": {
        "id": "zgWoK7DYVktN"
      }
    }
  ]
}